{
 "cells": [
  {
   "cell_type": "code",
   "execution_count": 1,
   "metadata": {},
   "outputs": [
    {
     "data": {
      "text/plain": [
       "True"
      ]
     },
     "execution_count": 1,
     "metadata": {},
     "output_type": "execute_result"
    }
   ],
   "source": [
    "# Standard library imports\n",
    "import os\n",
    "from datetime import datetime\n",
    "import ast\n",
    "\n",
    "# Third-party library imports\n",
    "import pandas as pd\n",
    "from dotenv import load_dotenv\n",
    "import numpy as np\n",
    "import re\n",
    "import asyncio\n",
    "\n",
    "load_dotenv()"
   ]
  },
  {
   "cell_type": "code",
   "execution_count": 2,
   "metadata": {},
   "outputs": [],
   "source": [
    "from typing import Any, List, Tuple, Optional, Dict, Union\n",
    "# Local application/library specific imports\n",
    "# from langchain.chat_models import ChatOpenAI\n",
    "from langchain_community.chat_models import ChatOpenAI\n",
    "from langchain.prompts import PromptTemplate\n",
    "from langchain.chains import LLMChain"
   ]
  },
  {
   "cell_type": "code",
   "execution_count": 3,
   "metadata": {},
   "outputs": [],
   "source": [
    "# Load transactions data to categorise\n",
    "tx_dir = 'C:/Users/Barry/OneDrive/Documents/My stuff/Personal finance/expense_manager/data/tx_data/'\n",
    "tx_list = pd.read_csv(os.path.join(tx_dir, 'output/tx_master_data.csv'))"
   ]
  },
  {
   "cell_type": "markdown",
   "metadata": {},
   "source": [
    "##### LLM categorise transactions"
   ]
  },
  {
   "cell_type": "code",
   "execution_count": 4,
   "metadata": {},
   "outputs": [],
   "source": [
    "# Load prompt\n",
    "EXPENSE_CAT_TEMPLATE = \"\"\"\n",
    "    <context>\n",
    "    You are an advanced data analysis model. Your task is to create a list of [description, category] lists, where in each list item:\n",
    "    - the description is exactly the same you receive as input\n",
    "    - the category of the transaction (choose one from the list below based on the description)\n",
    "    </context>\n",
    "    \n",
    "    <categories>\n",
    "    The following list contains the categories and associated keywords you often see in transaction descriptions:\n",
    "    -ATM: atm, cash, withdraw\n",
    "    -Auto: auto body\n",
    "    -Bars: bar, pubs, irish, brewery\n",
    "    -Beauty: body\n",
    "    -Cashback: cashback, reward, bonus, cash back\n",
    "    -Clothing: clothing, shoes, accessories\n",
    "    -Coffee Shops: coffee, cafe, tea, Starbucks, Dunkin\n",
    "    -Credit Card Payment: card payment, autopay\n",
    "    -Education: kindle, tuition\n",
    "    -Entertainment: event, show, movies, cinema, theater\n",
    "    -Fees: Fee\n",
    "    -Food: snack, Donalds, Burger King, KFC, Subway, Pizza, Domino, Taco Bell, Wendy, Chick-fil-A, Popeyes, Arby's, Chipotle, or someone's name (e.g. Harris)\n",
    "    -Fuel: fuel, gas, petrol\n",
    "    -Gifts: donation, gift\n",
    "    -Groceries: groceries, supermarket, food, familia\n",
    "    -Gym: gym, fitness, yoga, pilates, crossfit\n",
    "    -Home: Ikea\n",
    "    -Housing: rent, mortgage\n",
    "    -Income: refund, deposit, paycheck\n",
    "    -Insurance: insurance\n",
    "    -Medical: medical, doctor, dentist, hospital, clinic\n",
    "    -Pets: vet, veterinary, pet, dog, cat\n",
    "    -Pharmacy: pharmacy, drugstore, cvs, walgreens, rite aid, duane\n",
    "    -Restaurants: restaurant, lunch, dinner\n",
    "    -Services: service, laundry, dry cleaning\n",
    "    -Shopping: shopping, amazon, walmart, target, safeway\n",
    "    -Streaming: Netflix, Spotify, Hulu, HBO\n",
    "    -Taxes: tax, irs\n",
    "    -Technology: technology, software, hardware, electronics\n",
    "    -Transportation: bus, train, subway, metro, airline, uber, lyft, taxi\n",
    "    -Travel: travel, holiday, trip, airbnb, kiwi, hotel, hostel, resort, kiwi, kayak, expedia, booking.com\n",
    "    -Transfer: payment from\n",
    "    -Utilities: electricity, water, gas, ting, verizon, comcast, sprint, t-mobile, at&t, mint\n",
    "    -Other: use this when very uncertain about the category\n",
    "    </categories>\n",
    "\n",
    "    <formatting_instructions>\n",
    "    Your output should be a valid list of lists (e.g. [[description1, category1], [description2, category2], ...]] parse-able by the command ast.literal_eval(output)\n",
    "    Don't include any kind of commentary, return carriages, spaces or other characters in the output\n",
    "    Fill all categories; if you don't know which one to choose, choose 'Other'\n",
    "    </formatting_instructions>\n",
    "    \n",
    "    \n",
    "    <financial_transactions>\n",
    "    {input_data}\n",
    "    </financial_transactions>\"\"\""
   ]
  },
  {
   "cell_type": "code",
   "execution_count": 5,
   "metadata": {},
   "outputs": [
    {
     "name": "stderr",
     "output_type": "stream",
     "text": [
      "c:\\Users\\Barry\\dev\\venvs\\expense_llm\\Lib\\site-packages\\langchain_core\\_api\\deprecation.py:119: LangChainDeprecationWarning: The class `ChatOpenAI` was deprecated in LangChain 0.0.10 and will be removed in 0.3.0. An updated version of the class exists in the langchain-openai package and should be used instead. To use it run `pip install -U langchain-openai` and import as `from langchain_openai import ChatOpenAI`.\n",
      "  warn_deprecated(\n",
      "c:\\Users\\Barry\\dev\\venvs\\expense_llm\\Lib\\site-packages\\langchain_core\\_api\\deprecation.py:119: LangChainDeprecationWarning: The class `LLMChain` was deprecated in LangChain 0.1.17 and will be removed in 0.3.0. Use RunnableSequence, e.g., `prompt | llm` instead.\n",
      "  warn_deprecated(\n"
     ]
    }
   ],
   "source": [
    "# Initialize language model and prompt\n",
    "llm = ChatOpenAI(temperature=0, client=Any)\n",
    "prompt = PromptTemplate.from_template(template=EXPENSE_CAT_TEMPLATE)    \n",
    "chain = LLMChain(llm=llm, prompt=prompt)"
   ]
  },
  {
   "cell_type": "code",
   "execution_count": 24,
   "metadata": {},
   "outputs": [],
   "source": [
    "# Iterate over the DataFrame in batches of TX_PER_LLM_RUN transactions\n",
    "TX_PER_LLM_RUN = 10\n",
    "\n",
    "def validate_result(raw_result):\n",
    "    result = {'valid': True, 'output': []}\n",
    "\n",
    "    try:\n",
    "        # Create a pattern to match a list Description-Category pairs (List[Tuple[str, str]])\n",
    "        pattern = r\"\\['([^']+)', '([^']+)'\\]\"\n",
    "        \n",
    "        # Use it to extract all the correctly formatted pairs from the raw result\n",
    "        matches = re.findall(pattern, raw_result.replace(\"\\\\'\", \"'\"))\n",
    "\n",
    "        # Loop over the matches, and try to parse them to ensure the content is valid\n",
    "        valid_outputs = []\n",
    "        for match in matches:\n",
    "            try:\n",
    "                parsed_pair = ast.literal_eval(str(list(match)))\n",
    "                valid_outputs.append(parsed_pair)\n",
    "            except Exception as e:\n",
    "                # logger.log(logging.ERROR, f\"Parsing Error: {e}\\nMatch: {match}\\n\")\n",
    "                result['valid'] = False\n",
    "\n",
    "        result['output'] = valid_outputs\n",
    "\n",
    "    except Exception as e:\n",
    "        result['valid'] = False\n",
    "\n",
    "async def llm_categorise_chunk(chunk, chain):\n",
    "    input_string = \"\\n\".join(chunk['description']).strip()\n",
    "    \n",
    "    # categorise\n",
    "    raw_result = await chain.arun(input_data=input_string)\n",
    "    \n",
    "    # validate result\n",
    "    # result = validate_result(raw_result)\n",
    "\n",
    "    return raw_result\n"
   ]
  },
  {
   "cell_type": "code",
   "execution_count": 26,
   "metadata": {},
   "outputs": [
    {
     "name": "stderr",
     "output_type": "stream",
     "text": [
      "c:\\Users\\Barry\\dev\\venvs\\expense_llm\\Lib\\site-packages\\numpy\\core\\fromnumeric.py:59: FutureWarning: 'DataFrame.swapaxes' is deprecated and will be removed in a future version. Please use 'DataFrame.transpose' instead.\n",
      "  return bound(*args, **kwds)\n"
     ]
    },
    {
     "data": {
      "text/plain": [
       "81"
      ]
     },
     "execution_count": 26,
     "metadata": {},
     "output_type": "execute_result"
    }
   ],
   "source": [
    "# def llm_categorise(tx_list, chain, TX_PER_LLM_RUN):\n",
    "chunks = np.array_split(tx_list, tx_list.shape[0] // TX_PER_LLM_RUN + 1)\n",
    "\n",
    "len(chunks)"
   ]
  },
  {
   "cell_type": "code",
   "execution_count": 29,
   "metadata": {},
   "outputs": [
    {
     "data": {
      "text/plain": [
       "16"
      ]
     },
     "execution_count": 29,
     "metadata": {},
     "output_type": "execute_result"
    }
   ],
   "source": [
    "import math\n",
    "math.floor(len(chunks)/5)"
   ]
  },
  {
   "cell_type": "code",
   "execution_count": 44,
   "metadata": {},
   "outputs": [
    {
     "name": "stdout",
     "output_type": "stream",
     "text": [
      "0 5\n",
      "5 10\n",
      "10 15\n",
      "15 20\n",
      "20 25\n",
      "25 30\n",
      "30 35\n",
      "35 40\n",
      "40 45\n",
      "45 50\n",
      "50 55\n",
      "55 60\n",
      "60 65\n",
      "65 70\n"
     ]
    },
    {
     "ename": "SyntaxError",
     "evalue": "unterminated string literal (detected at line 1) (<unknown>, line 1)",
     "output_type": "error",
     "traceback": [
      "Traceback \u001b[1;36m(most recent call last)\u001b[0m:\n",
      "\u001b[0m  File \u001b[0;32mc:\\Users\\Barry\\dev\\venvs\\expense_llm\\Lib\\site-packages\\IPython\\core\\interactiveshell.py:3575\u001b[0m in \u001b[0;35mrun_code\u001b[0m\n    await eval(code_obj, self.user_global_ns, self.user_ns)\u001b[0m\n",
      "\u001b[0m  Cell \u001b[0;32mIn[44], line 20\u001b[0m\n    results_df = pd.concat([pd.DataFrame(ast.literal_eval(df), columns=['description', 'category']) for df in all_results], ignore_index=True)\u001b[0m\n",
      "\u001b[0m  File \u001b[0;32m~\\AppData\\Local\\Programs\\Python\\Python312\\Lib\\ast.py:66\u001b[0m in \u001b[0;35mliteral_eval\u001b[0m\n    node_or_string = parse(node_or_string.lstrip(\" \\t\"), mode='eval')\u001b[0m\n",
      "\u001b[1;36m  File \u001b[1;32m~\\AppData\\Local\\Programs\\Python\\Python312\\Lib\\ast.py:52\u001b[1;36m in \u001b[1;35mparse\u001b[1;36m\n\u001b[1;33m    return compile(source, filename, mode, flags,\u001b[1;36m\n",
      "\u001b[1;36m  File \u001b[1;32m<unknown>:1\u001b[1;36m\u001b[0m\n\u001b[1;33m    [['THE MAX JOY CO EASTWOOD', 'Other'], ['HEALTH SQ EPPING', 'Medical'], ['TAN VIET DARLG SQ PL HAYMARKET', 'Other'], ['RETAIL JUICE BARS PTY ULTIMO', 'Bars'], ['THE Q ON HARRIS Ultimo', 'Other'], ['THE MISSING PIECE FRENCHS FORES', 'Other'], ['COLES 0839 BROADWAY', 'Groceries'], [\"CAT & CLAUDIA'S PCY Broadway\", 'Pets'], ['SQ *LIM'S HOT BREAD Eastwood', 'Other'], ['YY CAFE PTY LTD EASTWOOD', 'Coffee Shops']]\u001b[0m\n\u001b[1;37m                                                                                                                                                                                                                                                                                                                                                                                                                           ^\u001b[0m\n\u001b[1;31mSyntaxError\u001b[0m\u001b[1;31m:\u001b[0m unterminated string literal (detected at line 1)\n"
     ]
    }
   ],
   "source": [
    "# Define number of chunks to run per iteration (bound of org limit on tokens)\n",
    "no_chunks = 5\n",
    "iterations = math.floor(len(chunks)/no_chunks)\n",
    "\n",
    "# adjust for remainder of chunks\n",
    "if len(chunks)/no_chunks != iterations:\n",
    "    iterations += 1\n",
    "\n",
    "final_results_df = pd.DataFrame()\n",
    "\n",
    "for i in range(iterations):\n",
    "    start = i*5\n",
    "    stop = np.where((i+1)*5 > len(chunks), len(chunks), (i+1)*5)\n",
    "    print(start, stop)\n",
    "    \n",
    "    # categorise chunk with prompt in ChatGPT\n",
    "    results = [llm_categorise_chunk(chunk, chain) for chunk in chunks[start:stop]] \n",
    "    all_results = await asyncio.gather(*results)\n",
    "    \n",
    "    # organise results in dataframe\n",
    "    results_df = pd.concat([pd.DataFrame(ast.literal_eval(df), columns=['description', 'category']) for df in all_results], ignore_index=True)\n",
    "    final_results_df = pd.concat([final_results_df, results_df])"
   ]
  },
  {
   "cell_type": "code",
   "execution_count": 46,
   "metadata": {},
   "outputs": [
    {
     "data": {
      "text/plain": [
       "13"
      ]
     },
     "execution_count": 46,
     "metadata": {},
     "output_type": "execute_result"
    }
   ],
   "source": [
    "i"
   ]
  },
  {
   "cell_type": "code",
   "execution_count": 49,
   "metadata": {},
   "outputs": [],
   "source": [
    "start = i*5\n",
    "stop = np.where((i+1)*5 > len(chunks), len(chunks), (i+1)*5)\n",
    "\n",
    "result_dict = {}\n",
    "\n",
    "for q, chunk in enumerate(chunks[start:stop]):\n",
    "    result_dict[q] = llm_categorise_chunk(chunk, chain)\n",
    "    all_results = await asyncio.gather(*result_dict)"
   ]
  },
  {
   "cell_type": "code",
   "execution_count": 60,
   "metadata": {},
   "outputs": [
    {
     "data": {
      "text/plain": [
       "[\"[['HMART GROUP PTY LTD EASTWOOD', 'Groceries'], ['SAVOY CAKE EASTWOOD Eastwood', 'Food'], ['THAI KEE IGA SUPERMA HAYMARKET', 'Groceries'], ['WOOLWORTHS/ROWE ST EASTWOOD', 'Groceries'], ['Costis Fish and Chips Sydney', 'Food'], ['DAVELLES BAKERY EPPING', 'Food'], ['EDITION ROASTERS MC Sydney', 'Coffee Shops'], ['YY CAFE PTY LTD EASTWOOD', 'Coffee Shops'], ['HEALTH SQ EPPING', 'Medical'], ['Machi Machi Eastwood Eastwood', 'Coffee Shops']]\",\n",
       " '[[\\'THE MAX JOY CO EASTWOOD\\', \\'Other\\'], [\\'HEALTH SQ EPPING\\', \\'Medical\\'], [\\'TAN VIET DARLG SQ PL HAYMARKET\\', \\'Other\\'], [\\'RETAIL JUICE BARS PTY ULTIMO\\', \\'Bars\\'], [\\'THE Q ON HARRIS Ultimo\\', \\'Other\\'], [\\'THE MISSING PIECE FRENCHS FORES\\', \\'Other\\'], [\\'COLES 0839 BROADWAY\\', \\'Groceries\\'], [\"CAT & CLAUDIA\\'S PCY Broadway\", \\'Pets\\'], [\\'SQ *LIM\\'S HOT BREAD Eastwood\\', \\'Other\\'], [\\'YY CAFE PTY LTD EASTWOOD\\', \\'Coffee Shops\\']]',\n",
       " \"[['PAYPAL *NSWBJJFEDER 4029357733', 'Other'], ['Boom Cafe Eastwood', 'Coffee Shops'], ['PAYPAL *BOOKTOPIABO 4029357733', 'Other'], ['THE Q ON HARRIS Ultimo', 'Food'], ['SQ *PORTAFILTER Sydney', 'Coffee Shops'], ['SQ *ULTIMO KITCHEN Ultimo', 'Food'], ['BONBONS BAKERY EASTWOOD', 'Food'], ['YY CAFE PTY LTD EASTWOOD', 'Coffee Shops'], ['CASH/TRANSFER PAYMENT - THANK YOU', 'Transfer'], ['YY CAFE PTY LTD EASTWOOD', 'Coffee Shops']]\",\n",
       " \"[['ORANGE SUPERMARKET WE WENTWORTH POI', 'Groceries'], ['Thang Long Restaurant Bankstown', 'Restaurants'], ['Rice & Curry Pyrmont', 'Restaurants'], ['SQ *OMEIO ARTISANAL DELI Darlinghurst', 'Restaurants'], ['SMP*The Abangs Mascot', 'Restaurants'], ['KRISPY KREME TOWN HALL SYDNEY', 'Food'], ['HO CHAK PTY LTD CHATSWOOD', 'Restaurants'], ['JONES ST CAFE ULTIMO', 'Coffee Shops'], ['SQ *PORTAFILTER Sydney', 'Coffee Shops'], ['SQ *PORTAFILTER Sydney', 'Coffee Shops']]\",\n",
       " \"[['Adobe Systems Pty Ltd Sydney', 'Technology'], ['Machi Machi Eastwood Eastwood', 'Coffee Shops'], ['KOGAN MOBILE NORTH SYDNEY', 'Technology'], ['SQ *LIM'S HOT BREAD Eastwood', 'Food'], ['Breadtop Eastwood Eastwood', 'Food'], ['Boom Cafe Eastwood', 'Coffee Shops'], ['CANTEEN TAIWAN Eastwood', 'Restaurants'], ['Uobei Lidcombe', 'Restaurants'], ['EB *League of Legends 801-413-7200', 'Entertainment'], ['SQ *KAPPUCCINO Ultimo', 'Coffee Shops']]\"]"
      ]
     },
     "execution_count": 60,
     "metadata": {},
     "output_type": "execute_result"
    }
   ],
   "source": [
    "all_results"
   ]
  },
  {
   "cell_type": "code",
   "execution_count": 65,
   "metadata": {},
   "outputs": [
    {
     "data": {
      "text/html": [
       "<div>\n",
       "<style scoped>\n",
       "    .dataframe tbody tr th:only-of-type {\n",
       "        vertical-align: middle;\n",
       "    }\n",
       "\n",
       "    .dataframe tbody tr th {\n",
       "        vertical-align: top;\n",
       "    }\n",
       "\n",
       "    .dataframe thead th {\n",
       "        text-align: right;\n",
       "    }\n",
       "</style>\n",
       "<table border=\"1\" class=\"dataframe\">\n",
       "  <thead>\n",
       "    <tr style=\"text-align: right;\">\n",
       "      <th></th>\n",
       "      <th>date</th>\n",
       "      <th>description</th>\n",
       "      <th>amount</th>\n",
       "      <th>provider</th>\n",
       "    </tr>\n",
       "  </thead>\n",
       "  <tbody>\n",
       "    <tr>\n",
       "      <th>0</th>\n",
       "      <td>25/05/2024</td>\n",
       "      <td>NORTH SANDWICH&amp;BURGER</td>\n",
       "      <td>-10.69</td>\n",
       "      <td>AMEX</td>\n",
       "    </tr>\n",
       "    <tr>\n",
       "      <th>1</th>\n",
       "      <td>25/05/2024</td>\n",
       "      <td>NORTH SANDWICH&amp;BURGER 6 CHIPPENDALE</td>\n",
       "      <td>53.45</td>\n",
       "      <td>AMEX</td>\n",
       "    </tr>\n",
       "    <tr>\n",
       "      <th>2</th>\n",
       "      <td>25/05/2024</td>\n",
       "      <td>POCKET ROCKETZ          Ultimo</td>\n",
       "      <td>36.48</td>\n",
       "      <td>AMEX</td>\n",
       "    </tr>\n",
       "    <tr>\n",
       "      <th>3</th>\n",
       "      <td>25/05/2024</td>\n",
       "      <td>PROVENANCE BY ANDREW BA Ultimo</td>\n",
       "      <td>36.48</td>\n",
       "      <td>AMEX</td>\n",
       "    </tr>\n",
       "    <tr>\n",
       "      <th>4</th>\n",
       "      <td>25/05/2024</td>\n",
       "      <td>SHERIDAN OUTLET         KEW</td>\n",
       "      <td>26.00</td>\n",
       "      <td>AMEX</td>\n",
       "    </tr>\n",
       "    <tr>\n",
       "      <th>...</th>\n",
       "      <td>...</td>\n",
       "      <td>...</td>\n",
       "      <td>...</td>\n",
       "      <td>...</td>\n",
       "    </tr>\n",
       "    <tr>\n",
       "      <th>803</th>\n",
       "      <td>02 Oct 23</td>\n",
       "      <td>PULP+GRIND SYD T2 Mascot</td>\n",
       "      <td>-14.05</td>\n",
       "      <td>NAB</td>\n",
       "    </tr>\n",
       "    <tr>\n",
       "      <th>804</th>\n",
       "      <td>02 Oct 23</td>\n",
       "      <td>EDITION ROASTERS MC Sydney</td>\n",
       "      <td>-5.00</td>\n",
       "      <td>NAB</td>\n",
       "    </tr>\n",
       "    <tr>\n",
       "      <th>805</th>\n",
       "      <td>29 Sep 23</td>\n",
       "      <td>Machi Machi Eastwood Eastwood</td>\n",
       "      <td>-8.12</td>\n",
       "      <td>NAB</td>\n",
       "    </tr>\n",
       "    <tr>\n",
       "      <th>806</th>\n",
       "      <td>28 Sep 23</td>\n",
       "      <td>NOMADIC ID LONDON</td>\n",
       "      <td>-783.08</td>\n",
       "      <td>NAB</td>\n",
       "    </tr>\n",
       "    <tr>\n",
       "      <th>807</th>\n",
       "      <td>28 Sep 23</td>\n",
       "      <td>NAB INTNL TRAN FEE - (MC)</td>\n",
       "      <td>-23.49</td>\n",
       "      <td>NAB</td>\n",
       "    </tr>\n",
       "  </tbody>\n",
       "</table>\n",
       "<p>808 rows × 4 columns</p>\n",
       "</div>"
      ],
      "text/plain": [
       "           date                          description  amount provider\n",
       "0    25/05/2024                NORTH SANDWICH&BURGER  -10.69     AMEX\n",
       "1    25/05/2024  NORTH SANDWICH&BURGER 6 CHIPPENDALE   53.45     AMEX\n",
       "2    25/05/2024       POCKET ROCKETZ          Ultimo   36.48     AMEX\n",
       "3    25/05/2024       PROVENANCE BY ANDREW BA Ultimo   36.48     AMEX\n",
       "4    25/05/2024          SHERIDAN OUTLET         KEW   26.00     AMEX\n",
       "..          ...                                  ...     ...      ...\n",
       "803   02 Oct 23             PULP+GRIND SYD T2 Mascot  -14.05      NAB\n",
       "804   02 Oct 23           EDITION ROASTERS MC Sydney   -5.00      NAB\n",
       "805   29 Sep 23        Machi Machi Eastwood Eastwood   -8.12      NAB\n",
       "806   28 Sep 23                    NOMADIC ID LONDON -783.08      NAB\n",
       "807   28 Sep 23            NAB INTNL TRAN FEE - (MC)  -23.49      NAB\n",
       "\n",
       "[808 rows x 4 columns]"
      ]
     },
     "execution_count": 65,
     "metadata": {},
     "output_type": "execute_result"
    }
   ],
   "source": [
    "tx_list"
   ]
  },
  {
   "cell_type": "code",
   "execution_count": 77,
   "metadata": {},
   "outputs": [
    {
     "data": {
      "text/plain": [
       "(648, 2)"
      ]
     },
     "execution_count": 77,
     "metadata": {},
     "output_type": "execute_result"
    }
   ],
   "source": [
    "final_results_df.shape"
   ]
  },
  {
   "cell_type": "code",
   "execution_count": 79,
   "metadata": {},
   "outputs": [
    {
     "data": {
      "text/plain": [
       "10"
      ]
     },
     "execution_count": 79,
     "metadata": {},
     "output_type": "execute_result"
    }
   ],
   "source": [
    "len(chunks[0])"
   ]
  },
  {
   "cell_type": "code",
   "execution_count": 82,
   "metadata": {},
   "outputs": [
    {
     "data": {
      "text/html": [
       "<div>\n",
       "<style scoped>\n",
       "    .dataframe tbody tr th:only-of-type {\n",
       "        vertical-align: middle;\n",
       "    }\n",
       "\n",
       "    .dataframe tbody tr th {\n",
       "        vertical-align: top;\n",
       "    }\n",
       "\n",
       "    .dataframe thead th {\n",
       "        text-align: right;\n",
       "    }\n",
       "</style>\n",
       "<table border=\"1\" class=\"dataframe\">\n",
       "  <thead>\n",
       "    <tr style=\"text-align: right;\">\n",
       "      <th></th>\n",
       "      <th>date</th>\n",
       "      <th>description</th>\n",
       "      <th>amount</th>\n",
       "      <th>provider</th>\n",
       "    </tr>\n",
       "  </thead>\n",
       "  <tbody>\n",
       "    <tr>\n",
       "      <th>667</th>\n",
       "      <td>20 Nov 23</td>\n",
       "      <td>CAT &amp; CLAUDIA'S PCY Broadway</td>\n",
       "      <td>-12.99</td>\n",
       "      <td>NAB</td>\n",
       "    </tr>\n",
       "  </tbody>\n",
       "</table>\n",
       "</div>"
      ],
      "text/plain": [
       "          date                   description  amount provider\n",
       "667  20 Nov 23  CAT & CLAUDIA'S PCY Broadway  -12.99      NAB"
      ]
     },
     "execution_count": 82,
     "metadata": {},
     "output_type": "execute_result"
    }
   ],
   "source": [
    "tx_list.loc[tx_list.description == \"CAT & CLAUDIA'S PCY Broadway\"]"
   ]
  },
  {
   "cell_type": "code",
   "execution_count": 83,
   "metadata": {},
   "outputs": [
    {
     "data": {
      "text/html": [
       "<div>\n",
       "<style scoped>\n",
       "    .dataframe tbody tr th:only-of-type {\n",
       "        vertical-align: middle;\n",
       "    }\n",
       "\n",
       "    .dataframe tbody tr th {\n",
       "        vertical-align: top;\n",
       "    }\n",
       "\n",
       "    .dataframe thead th {\n",
       "        text-align: right;\n",
       "    }\n",
       "</style>\n",
       "<table border=\"1\" class=\"dataframe\">\n",
       "  <thead>\n",
       "    <tr style=\"text-align: right;\">\n",
       "      <th></th>\n",
       "      <th>date</th>\n",
       "      <th>description</th>\n",
       "      <th>amount</th>\n",
       "      <th>provider</th>\n",
       "    </tr>\n",
       "  </thead>\n",
       "  <tbody>\n",
       "    <tr>\n",
       "      <th>660</th>\n",
       "      <td>22 Nov 23</td>\n",
       "      <td>THE MAX JOY CO EASTWOOD</td>\n",
       "      <td>-6.09</td>\n",
       "      <td>NAB</td>\n",
       "    </tr>\n",
       "    <tr>\n",
       "      <th>661</th>\n",
       "      <td>21 Nov 23</td>\n",
       "      <td>HEALTH SQ EPPING</td>\n",
       "      <td>-97.00</td>\n",
       "      <td>NAB</td>\n",
       "    </tr>\n",
       "    <tr>\n",
       "      <th>662</th>\n",
       "      <td>21 Nov 23</td>\n",
       "      <td>TAN VIET DARLG SQ PL HAYMARKET</td>\n",
       "      <td>-39.33</td>\n",
       "      <td>NAB</td>\n",
       "    </tr>\n",
       "    <tr>\n",
       "      <th>663</th>\n",
       "      <td>21 Nov 23</td>\n",
       "      <td>RETAIL JUICE BARS PTY ULTIMO</td>\n",
       "      <td>-8.90</td>\n",
       "      <td>NAB</td>\n",
       "    </tr>\n",
       "    <tr>\n",
       "      <th>664</th>\n",
       "      <td>21 Nov 23</td>\n",
       "      <td>THE Q ON HARRIS Ultimo</td>\n",
       "      <td>-5.00</td>\n",
       "      <td>NAB</td>\n",
       "    </tr>\n",
       "    <tr>\n",
       "      <th>665</th>\n",
       "      <td>20 Nov 23</td>\n",
       "      <td>THE MISSING PIECE FRENCHS FORES</td>\n",
       "      <td>-76.30</td>\n",
       "      <td>NAB</td>\n",
       "    </tr>\n",
       "    <tr>\n",
       "      <th>666</th>\n",
       "      <td>20 Nov 23</td>\n",
       "      <td>COLES 0839 BROADWAY</td>\n",
       "      <td>-48.00</td>\n",
       "      <td>NAB</td>\n",
       "    </tr>\n",
       "    <tr>\n",
       "      <th>667</th>\n",
       "      <td>20 Nov 23</td>\n",
       "      <td>CAT &amp; CLAUDIA'S PCY Broadway</td>\n",
       "      <td>-12.99</td>\n",
       "      <td>NAB</td>\n",
       "    </tr>\n",
       "    <tr>\n",
       "      <th>668</th>\n",
       "      <td>20 Nov 23</td>\n",
       "      <td>SQ *LIM'S HOT BREAD Eastwood</td>\n",
       "      <td>-8.10</td>\n",
       "      <td>NAB</td>\n",
       "    </tr>\n",
       "    <tr>\n",
       "      <th>669</th>\n",
       "      <td>20 Nov 23</td>\n",
       "      <td>YY CAFE PTY LTD EASTWOOD</td>\n",
       "      <td>-4.50</td>\n",
       "      <td>NAB</td>\n",
       "    </tr>\n",
       "  </tbody>\n",
       "</table>\n",
       "</div>"
      ],
      "text/plain": [
       "          date                      description  amount provider\n",
       "660  22 Nov 23          THE MAX JOY CO EASTWOOD   -6.09      NAB\n",
       "661  21 Nov 23                 HEALTH SQ EPPING  -97.00      NAB\n",
       "662  21 Nov 23   TAN VIET DARLG SQ PL HAYMARKET  -39.33      NAB\n",
       "663  21 Nov 23     RETAIL JUICE BARS PTY ULTIMO   -8.90      NAB\n",
       "664  21 Nov 23           THE Q ON HARRIS Ultimo   -5.00      NAB\n",
       "665  20 Nov 23  THE MISSING PIECE FRENCHS FORES  -76.30      NAB\n",
       "666  20 Nov 23              COLES 0839 BROADWAY  -48.00      NAB\n",
       "667  20 Nov 23     CAT & CLAUDIA'S PCY Broadway  -12.99      NAB\n",
       "668  20 Nov 23     SQ *LIM'S HOT BREAD Eastwood   -8.10      NAB\n",
       "669  20 Nov 23         YY CAFE PTY LTD EASTWOOD   -4.50      NAB"
      ]
     },
     "execution_count": 83,
     "metadata": {},
     "output_type": "execute_result"
    }
   ],
   "source": [
    "chunks[66]"
   ]
  },
  {
   "cell_type": "code",
   "execution_count": 86,
   "metadata": {},
   "outputs": [
    {
     "data": {
      "text/html": [
       "<div>\n",
       "<style scoped>\n",
       "    .dataframe tbody tr th:only-of-type {\n",
       "        vertical-align: middle;\n",
       "    }\n",
       "\n",
       "    .dataframe tbody tr th {\n",
       "        vertical-align: top;\n",
       "    }\n",
       "\n",
       "    .dataframe thead th {\n",
       "        text-align: right;\n",
       "    }\n",
       "</style>\n",
       "<table border=\"1\" class=\"dataframe\">\n",
       "  <thead>\n",
       "    <tr style=\"text-align: right;\">\n",
       "      <th></th>\n",
       "      <th>date</th>\n",
       "      <th>description</th>\n",
       "      <th>amount</th>\n",
       "      <th>provider</th>\n",
       "    </tr>\n",
       "  </thead>\n",
       "  <tbody>\n",
       "    <tr>\n",
       "      <th>640</th>\n",
       "      <td>28 Nov 23</td>\n",
       "      <td>J &amp; R 99 PTY LTD HAYMARKET</td>\n",
       "      <td>-8.32</td>\n",
       "      <td>NAB</td>\n",
       "    </tr>\n",
       "    <tr>\n",
       "      <th>641</th>\n",
       "      <td>28 Nov 23</td>\n",
       "      <td>YY CAFE PTY LTD EASTWOOD</td>\n",
       "      <td>-5.80</td>\n",
       "      <td>NAB</td>\n",
       "    </tr>\n",
       "    <tr>\n",
       "      <th>642</th>\n",
       "      <td>28 Nov 23</td>\n",
       "      <td>TRANSPORTFORNSW TAP SYDNEY</td>\n",
       "      <td>-2.24</td>\n",
       "      <td>NAB</td>\n",
       "    </tr>\n",
       "    <tr>\n",
       "      <th>643</th>\n",
       "      <td>27 Nov 23</td>\n",
       "      <td>PAYPAL *THEGOODGUYS 4029357733</td>\n",
       "      <td>-145.00</td>\n",
       "      <td>NAB</td>\n",
       "    </tr>\n",
       "    <tr>\n",
       "      <th>644</th>\n",
       "      <td>27 Nov 23</td>\n",
       "      <td>PAYPAL *LOBOCKI 4029357733</td>\n",
       "      <td>-86.98</td>\n",
       "      <td>NAB</td>\n",
       "    </tr>\n",
       "    <tr>\n",
       "      <th>645</th>\n",
       "      <td>27 Nov 23</td>\n",
       "      <td>RUNGNAPA KORNPAN WEST RYDE</td>\n",
       "      <td>-75.86</td>\n",
       "      <td>NAB</td>\n",
       "    </tr>\n",
       "    <tr>\n",
       "      <th>646</th>\n",
       "      <td>27 Nov 23</td>\n",
       "      <td>SAVOY CAKE EASTWOOD Eastwood</td>\n",
       "      <td>-37.74</td>\n",
       "      <td>NAB</td>\n",
       "    </tr>\n",
       "    <tr>\n",
       "      <th>647</th>\n",
       "      <td>27 Nov 23</td>\n",
       "      <td>SQ *KAPPUCCINO Ultimo</td>\n",
       "      <td>-32.00</td>\n",
       "      <td>NAB</td>\n",
       "    </tr>\n",
       "    <tr>\n",
       "      <th>648</th>\n",
       "      <td>27 Nov 23</td>\n",
       "      <td>PAYPAL *BIG W 4029357733</td>\n",
       "      <td>-24.00</td>\n",
       "      <td>NAB</td>\n",
       "    </tr>\n",
       "    <tr>\n",
       "      <th>649</th>\n",
       "      <td>27 Nov 23</td>\n",
       "      <td>OFFICEWORKS 0230 WEST RYDE</td>\n",
       "      <td>-22.69</td>\n",
       "      <td>NAB</td>\n",
       "    </tr>\n",
       "  </tbody>\n",
       "</table>\n",
       "</div>"
      ],
      "text/plain": [
       "          date                     description  amount provider\n",
       "640  28 Nov 23      J & R 99 PTY LTD HAYMARKET   -8.32      NAB\n",
       "641  28 Nov 23        YY CAFE PTY LTD EASTWOOD   -5.80      NAB\n",
       "642  28 Nov 23      TRANSPORTFORNSW TAP SYDNEY   -2.24      NAB\n",
       "643  27 Nov 23  PAYPAL *THEGOODGUYS 4029357733 -145.00      NAB\n",
       "644  27 Nov 23      PAYPAL *LOBOCKI 4029357733  -86.98      NAB\n",
       "645  27 Nov 23      RUNGNAPA KORNPAN WEST RYDE  -75.86      NAB\n",
       "646  27 Nov 23    SAVOY CAKE EASTWOOD Eastwood  -37.74      NAB\n",
       "647  27 Nov 23           SQ *KAPPUCCINO Ultimo  -32.00      NAB\n",
       "648  27 Nov 23        PAYPAL *BIG W 4029357733  -24.00      NAB\n",
       "649  27 Nov 23      OFFICEWORKS 0230 WEST RYDE  -22.69      NAB"
      ]
     },
     "execution_count": 86,
     "metadata": {},
     "output_type": "execute_result"
    }
   ],
   "source": [
    "chunks[64]"
   ]
  },
  {
   "cell_type": "code",
   "execution_count": 84,
   "metadata": {},
   "outputs": [
    {
     "data": {
      "text/html": [
       "<div>\n",
       "<style scoped>\n",
       "    .dataframe tbody tr th:only-of-type {\n",
       "        vertical-align: middle;\n",
       "    }\n",
       "\n",
       "    .dataframe tbody tr th {\n",
       "        vertical-align: top;\n",
       "    }\n",
       "\n",
       "    .dataframe thead th {\n",
       "        text-align: right;\n",
       "    }\n",
       "</style>\n",
       "<table border=\"1\" class=\"dataframe\">\n",
       "  <thead>\n",
       "    <tr style=\"text-align: right;\">\n",
       "      <th></th>\n",
       "      <th>description</th>\n",
       "      <th>category</th>\n",
       "    </tr>\n",
       "  </thead>\n",
       "  <tbody>\n",
       "    <tr>\n",
       "      <th>45</th>\n",
       "      <td>RUNGNAPA KORNPAN WEST RYDE</td>\n",
       "      <td>Food</td>\n",
       "    </tr>\n",
       "    <tr>\n",
       "      <th>46</th>\n",
       "      <td>SAVOY CAKE EASTWOOD Eastwood</td>\n",
       "      <td>Food</td>\n",
       "    </tr>\n",
       "    <tr>\n",
       "      <th>47</th>\n",
       "      <td>SQ *KAPPUCCINO Ultimo</td>\n",
       "      <td>Coffee Shops</td>\n",
       "    </tr>\n",
       "    <tr>\n",
       "      <th>48</th>\n",
       "      <td>PAYPAL *BIG W 4029357733</td>\n",
       "      <td>Shopping</td>\n",
       "    </tr>\n",
       "    <tr>\n",
       "      <th>49</th>\n",
       "      <td>OFFICEWORKS 0230 WEST RYDE</td>\n",
       "      <td>Shopping</td>\n",
       "    </tr>\n",
       "  </tbody>\n",
       "</table>\n",
       "</div>"
      ],
      "text/plain": [
       "                     description      category\n",
       "45    RUNGNAPA KORNPAN WEST RYDE          Food\n",
       "46  SAVOY CAKE EASTWOOD Eastwood          Food\n",
       "47         SQ *KAPPUCCINO Ultimo  Coffee Shops\n",
       "48      PAYPAL *BIG W 4029357733      Shopping\n",
       "49    OFFICEWORKS 0230 WEST RYDE      Shopping"
      ]
     },
     "execution_count": 84,
     "metadata": {},
     "output_type": "execute_result"
    }
   ],
   "source": [
    "final_results_df.iloc[-5:] # ran up to chunk 64"
   ]
  },
  {
   "cell_type": "code",
   "execution_count": 88,
   "metadata": {},
   "outputs": [
    {
     "data": {
      "text/plain": [
       "65"
      ]
     },
     "execution_count": 88,
     "metadata": {},
     "output_type": "execute_result"
    }
   ],
   "source": [
    "i*5"
   ]
  },
  {
   "cell_type": "code",
   "execution_count": 94,
   "metadata": {},
   "outputs": [],
   "source": [
    "# save results so far\n",
    "final_results_df_12iter = final_results_df.copy()"
   ]
  },
  {
   "cell_type": "code",
   "execution_count": 96,
   "metadata": {},
   "outputs": [
    {
     "data": {
      "text/html": [
       "<div>\n",
       "<style scoped>\n",
       "    .dataframe tbody tr th:only-of-type {\n",
       "        vertical-align: middle;\n",
       "    }\n",
       "\n",
       "    .dataframe tbody tr th {\n",
       "        vertical-align: top;\n",
       "    }\n",
       "\n",
       "    .dataframe thead th {\n",
       "        text-align: right;\n",
       "    }\n",
       "</style>\n",
       "<table border=\"1\" class=\"dataframe\">\n",
       "  <thead>\n",
       "    <tr style=\"text-align: right;\">\n",
       "      <th></th>\n",
       "      <th>date</th>\n",
       "      <th>description</th>\n",
       "      <th>amount</th>\n",
       "      <th>provider</th>\n",
       "    </tr>\n",
       "  </thead>\n",
       "  <tbody>\n",
       "    <tr>\n",
       "      <th>668</th>\n",
       "      <td>20 Nov 23</td>\n",
       "      <td>SQ *LIM'S HOT BREAD Eastwood</td>\n",
       "      <td>-8.1</td>\n",
       "      <td>NAB</td>\n",
       "    </tr>\n",
       "    <tr>\n",
       "      <th>693</th>\n",
       "      <td>08 Nov 23</td>\n",
       "      <td>SQ *LIM'S HOT BREAD Eastwood</td>\n",
       "      <td>-10.2</td>\n",
       "      <td>NAB</td>\n",
       "    </tr>\n",
       "    <tr>\n",
       "      <th>753</th>\n",
       "      <td>19 Oct 23</td>\n",
       "      <td>SQ *LIM'S HOT BREAD Eastwood</td>\n",
       "      <td>-12.2</td>\n",
       "      <td>NAB</td>\n",
       "    </tr>\n",
       "  </tbody>\n",
       "</table>\n",
       "</div>"
      ],
      "text/plain": [
       "          date                   description  amount provider\n",
       "668  20 Nov 23  SQ *LIM'S HOT BREAD Eastwood    -8.1      NAB\n",
       "693  08 Nov 23  SQ *LIM'S HOT BREAD Eastwood   -10.2      NAB\n",
       "753  19 Oct 23  SQ *LIM'S HOT BREAD Eastwood   -12.2      NAB"
      ]
     },
     "execution_count": 96,
     "metadata": {},
     "output_type": "execute_result"
    }
   ],
   "source": [
    "# problem: 'SQ *LIM'S HOT BREAD Eastwood'\n",
    "# why is python not using double quotes?\n",
    "tx_list.loc[tx_list.description == \"SQ *LIM'S HOT BREAD Eastwood\"]"
   ]
  },
  {
   "cell_type": "code",
   "execution_count": 95,
   "metadata": {},
   "outputs": [
    {
     "name": "stdout",
     "output_type": "stream",
     "text": [
      "70 75\n",
      "75 80\n"
     ]
    },
    {
     "ename": "SyntaxError",
     "evalue": "unterminated string literal (detected at line 1) (<unknown>, line 1)",
     "output_type": "error",
     "traceback": [
      "Traceback \u001b[1;36m(most recent call last)\u001b[0m:\n",
      "\u001b[0m  File \u001b[0;32mc:\\Users\\Barry\\dev\\venvs\\expense_llm\\Lib\\site-packages\\IPython\\core\\interactiveshell.py:3575\u001b[0m in \u001b[0;35mrun_code\u001b[0m\n    await eval(code_obj, self.user_global_ns, self.user_ns)\u001b[0m\n",
      "\u001b[0m  Cell \u001b[0;32mIn[95], line 12\u001b[0m\n    results_df = pd.concat([pd.DataFrame(ast.literal_eval(df), columns=['description', 'category']) for df in all_results], ignore_index=True)\u001b[0m\n",
      "\u001b[0m  File \u001b[0;32m~\\AppData\\Local\\Programs\\Python\\Python312\\Lib\\ast.py:66\u001b[0m in \u001b[0;35mliteral_eval\u001b[0m\n    node_or_string = parse(node_or_string.lstrip(\" \\t\"), mode='eval')\u001b[0m\n",
      "\u001b[1;36m  File \u001b[1;32m~\\AppData\\Local\\Programs\\Python\\Python312\\Lib\\ast.py:52\u001b[1;36m in \u001b[1;35mparse\u001b[1;36m\n\u001b[1;33m    return compile(source, filename, mode, flags,\u001b[1;36m\n",
      "\u001b[1;36m  File \u001b[1;32m<unknown>:1\u001b[1;36m\u001b[0m\n\u001b[1;33m    [['CHEMIST WAREHOUSE EASTWOOD', 'Pharmacy'], ['SQ *JIAN BING Eastwood', 'Food'], ['LA VIGNE BAKERY EASTWOOD', 'Food'], ['SQ *LIM'S HOT BREAD Eastwood', 'Food'], ['PROUDS 200 SYDNEY', 'Shopping'], ['SP MILLIGRAM MELBOURNE', 'Other'], ['THE OLD ROAD CAFE MOUNT WHITE', 'Coffee Shops'], ['Cali Press Pty Ltd Sydney', 'Food'], ['BAR FINO SYDNEY', 'Bars'], ['WW METRO/189 PITT STREET SYDNEY', 'Shopping']]\u001b[0m\n\u001b[1;37m                                                                                                                                                                                                                                                                                                                                                                                                                 ^\u001b[0m\n\u001b[1;31mSyntaxError\u001b[0m\u001b[1;31m:\u001b[0m unterminated string literal (detected at line 1)\n"
     ]
    }
   ],
   "source": [
    "# run remaining chunks from 65 to 81\n",
    "for i in range(14,17): # remove 13\n",
    "    start = i*5\n",
    "    stop = np.where((i+1)*5 > len(chunks), len(chunks), (i+1)*5)\n",
    "    print(start, stop)\n",
    "    \n",
    "    # categorise chunk with prompt in ChatGPT\n",
    "    results = [llm_categorise_chunk(chunk, chain) for chunk in chunks[start:stop]] \n",
    "    all_results = await asyncio.gather(*results)\n",
    "    \n",
    "    # organise results in dataframe\n",
    "    results_df = pd.concat([pd.DataFrame(ast.literal_eval(df), columns=['description', 'category']) for df in all_results], ignore_index=True)\n",
    "    final_results_df = pd.concat([final_results_df, results_df])"
   ]
  },
  {
   "cell_type": "code",
   "execution_count": 58,
   "metadata": {},
   "outputs": [
    {
     "data": {
      "text/plain": [
       "category\n",
       "Coffee Shops      121\n",
       "Other              87\n",
       "Shopping           76\n",
       "Restaurants        71\n",
       "Groceries          69\n",
       "Food               47\n",
       "Medical            21\n",
       "Transportation     19\n",
       "Beauty             13\n",
       "Technology         13\n",
       "Streaming          12\n",
       "Pharmacy           12\n",
       "Clothing           11\n",
       "Transfer            8\n",
       "Fees                8\n",
       "Home                7\n",
       "Education           7\n",
       "Utilities           6\n",
       "Fuel                5\n",
       "Insurance           5\n",
       "Services            5\n",
       "Entertainment       5\n",
       "Gym                 4\n",
       "Pets                3\n",
       "Auto                3\n",
       "Travel              3\n",
       "Cashback            2\n",
       "Restaurant          2\n",
       "Alcohol             1\n",
       "Bars                1\n",
       "Housing             1\n",
       "Name: count, dtype: int64"
      ]
     },
     "execution_count": 58,
     "metadata": {},
     "output_type": "execute_result"
    }
   ],
   "source": [
    "final_results_df.category.value_counts()"
   ]
  },
  {
   "cell_type": "markdown",
   "metadata": {},
   "source": [
    "##### Validate results"
   ]
  },
  {
   "cell_type": "code",
   "execution_count": 68,
   "metadata": {},
   "outputs": [],
   "source": [
    "# check if different categories are classified for the same description\n",
    "dups = final_results_df.groupby('description').category.nunique()[final_results_df.groupby('description').category.nunique() > 1]\n",
    "dups = dups.reset_index()\n",
    "dups.columns = ['description', 'no_categories']"
   ]
  },
  {
   "cell_type": "code",
   "execution_count": 76,
   "metadata": {},
   "outputs": [
    {
     "data": {
      "text/html": [
       "<div>\n",
       "<style scoped>\n",
       "    .dataframe tbody tr th:only-of-type {\n",
       "        vertical-align: middle;\n",
       "    }\n",
       "\n",
       "    .dataframe tbody tr th {\n",
       "        vertical-align: top;\n",
       "    }\n",
       "\n",
       "    .dataframe thead th {\n",
       "        text-align: right;\n",
       "    }\n",
       "</style>\n",
       "<table border=\"1\" class=\"dataframe\">\n",
       "  <thead>\n",
       "    <tr style=\"text-align: right;\">\n",
       "      <th></th>\n",
       "      <th>description</th>\n",
       "      <th>category</th>\n",
       "      <th>no_categories</th>\n",
       "    </tr>\n",
       "  </thead>\n",
       "  <tbody>\n",
       "    <tr>\n",
       "      <th>0</th>\n",
       "      <td>THE Q ON HARRIS 58996 ULTIMO</td>\n",
       "      <td>Other</td>\n",
       "      <td>2</td>\n",
       "    </tr>\n",
       "    <tr>\n",
       "      <th>1</th>\n",
       "      <td>THE Q ON HARRIS 58996   ULTIMO</td>\n",
       "      <td>Other</td>\n",
       "      <td>3</td>\n",
       "    </tr>\n",
       "    <tr>\n",
       "      <th>2</th>\n",
       "      <td>THE Q ON HARRIS 58996   ULTIMO</td>\n",
       "      <td>Housing</td>\n",
       "      <td>3</td>\n",
       "    </tr>\n",
       "    <tr>\n",
       "      <th>3</th>\n",
       "      <td>PANTRY STORY            STANMORE</td>\n",
       "      <td>Groceries</td>\n",
       "      <td>2</td>\n",
       "    </tr>\n",
       "    <tr>\n",
       "      <th>4</th>\n",
       "      <td>THE Q ON HARRIS 58996   ULTIMO</td>\n",
       "      <td>Other</td>\n",
       "      <td>3</td>\n",
       "    </tr>\n",
       "    <tr>\n",
       "      <th>...</th>\n",
       "      <td>...</td>\n",
       "      <td>...</td>\n",
       "      <td>...</td>\n",
       "    </tr>\n",
       "    <tr>\n",
       "      <th>82</th>\n",
       "      <td>NOMADIC ID LONDON</td>\n",
       "      <td>Travel</td>\n",
       "      <td>2</td>\n",
       "    </tr>\n",
       "    <tr>\n",
       "      <th>83</th>\n",
       "      <td>PAYPAL *LOBOCKI 4029357733</td>\n",
       "      <td>Other</td>\n",
       "      <td>2</td>\n",
       "    </tr>\n",
       "    <tr>\n",
       "      <th>84</th>\n",
       "      <td>NOMADIC ID LONDON</td>\n",
       "      <td>Other</td>\n",
       "      <td>2</td>\n",
       "    </tr>\n",
       "    <tr>\n",
       "      <th>85</th>\n",
       "      <td>PAYPAL *LOBOCKI 4029357733</td>\n",
       "      <td>Shopping</td>\n",
       "      <td>2</td>\n",
       "    </tr>\n",
       "    <tr>\n",
       "      <th>86</th>\n",
       "      <td>SAVOY CAKE EASTWOOD Eastwood</td>\n",
       "      <td>Food</td>\n",
       "      <td>2</td>\n",
       "    </tr>\n",
       "  </tbody>\n",
       "</table>\n",
       "<p>87 rows × 3 columns</p>\n",
       "</div>"
      ],
      "text/plain": [
       "                         description   category  no_categories\n",
       "0       THE Q ON HARRIS 58996 ULTIMO      Other              2\n",
       "1     THE Q ON HARRIS 58996   ULTIMO      Other              3\n",
       "2     THE Q ON HARRIS 58996   ULTIMO    Housing              3\n",
       "3   PANTRY STORY            STANMORE  Groceries              2\n",
       "4     THE Q ON HARRIS 58996   ULTIMO      Other              3\n",
       "..                               ...        ...            ...\n",
       "82                 NOMADIC ID LONDON     Travel              2\n",
       "83        PAYPAL *LOBOCKI 4029357733      Other              2\n",
       "84                 NOMADIC ID LONDON      Other              2\n",
       "85        PAYPAL *LOBOCKI 4029357733   Shopping              2\n",
       "86      SAVOY CAKE EASTWOOD Eastwood       Food              2\n",
       "\n",
       "[87 rows x 3 columns]"
      ]
     },
     "execution_count": 76,
     "metadata": {},
     "output_type": "execute_result"
    }
   ],
   "source": [
    "pd.merge(final_results_df, dups, left_on='description', right_on='description')"
   ]
  },
  {
   "cell_type": "markdown",
   "metadata": {},
   "source": [
    "##### Single run"
   ]
  },
  {
   "cell_type": "code",
   "execution_count": 25,
   "metadata": {},
   "outputs": [],
   "source": [
    "input_string = \"\\n\".join(chunks[0]['description']).strip()\n",
    "\n",
    "# categorise\n",
    "raw_result = await chain.arun(input_data=input_string)\n",
    "\n",
    "# validate result\n",
    "result = validate_result(raw_result)"
   ]
  },
  {
   "cell_type": "code",
   "execution_count": 29,
   "metadata": {},
   "outputs": [
    {
     "data": {
      "text/plain": [
       "\"[['NORTH SANDWICH&BURGER', 'Food'], ['NORTH SANDWICH&BURGER 6 CHIPPENDALE', 'Food'], ['POCKET ROCKETZ', 'Other'], ['PROVENANCE BY ANDREW BA', 'Other'], ['SHERIDAN OUTLET', 'Shopping'], ['SMOKEY SUE\\\\'S', 'Food'], ['THE Q ON HARRIS', 'Other'], ['THE Q ON HARRIS 58996', 'Other'], ['GRAM CAFE THE GALERIES', 'Coffee Shops'], ['GRAM CAFE THE GALERIES  Sydney', 'Other']]\""
      ]
     },
     "execution_count": 29,
     "metadata": {},
     "output_type": "execute_result"
    }
   ],
   "source": [
    "raw_result"
   ]
  },
  {
   "cell_type": "code",
   "execution_count": 28,
   "metadata": {},
   "outputs": [
    {
     "data": {
      "text/plain": [
       "{'valid': True,\n",
       " 'output': [['NORTH SANDWICH&BURGER', 'Food'],\n",
       "  ['NORTH SANDWICH&BURGER 6 CHIPPENDALE', 'Food'],\n",
       "  ['POCKET ROCKETZ', 'Other'],\n",
       "  ['PROVENANCE BY ANDREW BA', 'Other'],\n",
       "  ['SHERIDAN OUTLET', 'Shopping'],\n",
       "  ['THE Q ON HARRIS', 'Other'],\n",
       "  ['THE Q ON HARRIS 58996', 'Other'],\n",
       "  ['GRAM CAFE THE GALERIES', 'Coffee Shops'],\n",
       "  ['GRAM CAFE THE GALERIES  Sydney', 'Other']]}"
      ]
     },
     "execution_count": 28,
     "metadata": {},
     "output_type": "execute_result"
    }
   ],
   "source": [
    "pattern = r\"\\['([^']+)', '([^']+)'\\]\"\n",
    "result = {'valid': True, 'output': []}        \n",
    "# Use it to extract all the correctly formatted pairs from the raw result\n",
    "matches = re.findall(pattern, raw_result.replace(\"\\\\'\", \"'\"))\n",
    "\n",
    "valid_outputs = []\n",
    "for match in matches:\n",
    "    try:\n",
    "        parsed_pair = ast.literal_eval(str(list(match)))\n",
    "        valid_outputs.append(parsed_pair)\n",
    "    except Exception as e:\n",
    "        # logger.log(logging.ERROR, f\"Parsing Error: {e}\\nMatch: {match}\\n\")\n",
    "        result['valid'] = False\n",
    "\n",
    "result['output'] = valid_outputs\n",
    "\n",
    "result"
   ]
  },
  {
   "cell_type": "code",
   "execution_count": 46,
   "metadata": {},
   "outputs": [],
   "source": [
    "result = {'valid': True, 'output': []}\n",
    "\n",
    "try:\n",
    "    # Create a pattern to match a list Description-Category pairs (List[Tuple[str, str]])\n",
    "    pattern = r\"\\['([^']+)', '([^']+)'\\]\"\n",
    "\n",
    "    # Use it to extract all the correctly formatted pairs from the raw result\n",
    "    matches = re.findall(pattern, raw_result.replace(\"\\\\'\", \"'\"))\n",
    "\n",
    "    # Loop over the matches, and try to parse them to ensure the content is valid\n",
    "    valid_outputs = []\n",
    "    for match in matches:\n",
    "        try:\n",
    "            parsed_pair = ast.literal_eval(str(list(match)))\n",
    "            valid_outputs.append(parsed_pair)\n",
    "        except Exception as e:\n",
    "            # logger.log(logging.ERROR, f\"Parsing Error: {e}\\nMatch: {match}\\n\")\n",
    "            result['valid'] = False\n",
    "\n",
    "    result['output'] = valid_outputs\n",
    "except Exception as e:\n",
    "        result['valid'] = False    "
   ]
  },
  {
   "cell_type": "code",
   "execution_count": 47,
   "metadata": {},
   "outputs": [
    {
     "data": {
      "text/plain": [
       "[['NORTH SANDWICH&BURGER', 'Food'],\n",
       " ['NORTH SANDWICH&BURGER 6 CHIPPENDALE', 'Food'],\n",
       " ['POCKET ROCKETZ', 'Other'],\n",
       " ['PROVENANCE BY ANDREW BA', 'Other'],\n",
       " ['SHERIDAN OUTLET', 'Shopping'],\n",
       " ['THE Q ON HARRIS', 'Other'],\n",
       " ['THE Q ON HARRIS 58996', 'Other'],\n",
       " ['GRAM CAFE THE GALERIES', 'Coffee Shops'],\n",
       " ['GRAM CAFE THE GALERIES  Sydney', 'Other']]"
      ]
     },
     "execution_count": 47,
     "metadata": {},
     "output_type": "execute_result"
    }
   ],
   "source": [
    "valid_outputs"
   ]
  },
  {
   "cell_type": "code",
   "execution_count": 51,
   "metadata": {},
   "outputs": [],
   "source": [
    "result['output'] = valid_outputs"
   ]
  },
  {
   "cell_type": "code",
   "execution_count": 52,
   "metadata": {},
   "outputs": [
    {
     "data": {
      "text/plain": [
       "{'valid': False,\n",
       " 'output': [['NORTH SANDWICH&BURGER', 'Food'],\n",
       "  ['NORTH SANDWICH&BURGER 6 CHIPPENDALE', 'Food'],\n",
       "  ['POCKET ROCKETZ', 'Other'],\n",
       "  ['PROVENANCE BY ANDREW BA', 'Other'],\n",
       "  ['SHERIDAN OUTLET', 'Shopping'],\n",
       "  ['THE Q ON HARRIS', 'Other'],\n",
       "  ['THE Q ON HARRIS 58996', 'Other'],\n",
       "  ['GRAM CAFE THE GALERIES', 'Coffee Shops'],\n",
       "  ['GRAM CAFE THE GALERIES  Sydney', 'Other']]}"
      ]
     },
     "execution_count": 52,
     "metadata": {},
     "output_type": "execute_result"
    }
   ],
   "source": [
    "result"
   ]
  }
 ],
 "metadata": {
  "kernelspec": {
   "display_name": "expense_llm",
   "language": "python",
   "name": "python3"
  },
  "language_info": {
   "codemirror_mode": {
    "name": "ipython",
    "version": 3
   },
   "file_extension": ".py",
   "mimetype": "text/x-python",
   "name": "python",
   "nbconvert_exporter": "python",
   "pygments_lexer": "ipython3",
   "version": "3.12.3"
  }
 },
 "nbformat": 4,
 "nbformat_minor": 2
}
